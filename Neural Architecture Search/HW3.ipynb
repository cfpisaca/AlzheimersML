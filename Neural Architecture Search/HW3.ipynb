{
 "cells": [
  {
   "cell_type": "markdown",
   "metadata": {},
   "source": [
    "### Imports"
   ]
  },
  {
   "cell_type": "code",
   "execution_count": 21,
   "metadata": {},
   "outputs": [],
   "source": [
    "import numpy as np\n",
    "import pandas as pd\n",
    "import tensorflow as tf\n",
    "from sklearn.preprocessing import LabelEncoder\n",
    "from sklearn.model_selection import train_test_split\n",
    "import matplotlib.pyplot as plt\n",
    "from tensorflow.keras import layers, Sequential\n",
    "from tqdm import tqdm\n",
    "\n",
    "# Set seed for reproducibility\n",
    "np.random.seed(42)\n",
    "tf.random.set_seed(42)"
   ]
  },
  {
   "cell_type": "markdown",
   "metadata": {},
   "source": [
    "### Load and preprocess the dataset "
   ]
  },
  {
   "cell_type": "code",
   "execution_count": 22,
   "metadata": {},
   "outputs": [],
   "source": [
    "df = pd.read_csv(\"alzheimers_data.csv\")\n",
    "\n",
    "selected_columns = [\n",
    "    \"Age\", \"Gender\", \"Education Level\", \"BMI\", \"Physical Activity Level\",\n",
    "    \"Smoking Status\", \"Diabetes\", \"Hypertension\", \"Cholesterol Level\",\n",
    "    \"Family History of Alzheimer’s\", \"Alzheimer’s Diagnosis\"\n",
    "]\n",
    "\n",
    "df = df[selected_columns].copy()\n",
    "\n",
    "categorical_cols = [\n",
    "    \"Gender\", \"Physical Activity Level\", \"Smoking Status\",\n",
    "    \"Diabetes\", \"Hypertension\", \"Cholesterol Level\",\n",
    "    \"Family History of Alzheimer’s\", \"Alzheimer’s Diagnosis\"\n",
    "]\n",
    "\n",
    "label_encoders = {}\n",
    "for col in categorical_cols:\n",
    "    le = LabelEncoder()\n",
    "    df[col] = le.fit_transform(df[col].astype(str))\n",
    "    label_encoders[col] = le\n",
    "\n",
    "X = df[selected_columns[:-1]].values\n",
    "y = df[\"Alzheimer’s Diagnosis\"].values\n",
    "\n",
    "X_train, X_test, y_train, y_test = train_test_split(\n",
    "    X, y, stratify=y, test_size=0.2, random_state=42\n",
    ")\n",
    "\n",
    "y_train = y_train.reshape(-1, 1)\n",
    "y_test = y_test.reshape(-1, 1)"
   ]
  },
  {
   "cell_type": "markdown",
   "metadata": {},
   "source": [
    "#### Utility functions "
   ]
  },
  {
   "cell_type": "code",
   "execution_count": null,
   "metadata": {},
   "outputs": [],
   "source": [
    "def build_model(layer_config, input_dim):\n",
    "    # Filter out zero-node layers if any slipped through\n",
    "    layer_config = [n for n in layer_config if n > 0]\n",
    "    if not layer_config:\n",
    "        raise ValueError(\"Attempted to build empty model.\")\n",
    "\n",
    "    model = Sequential()\n",
    "    model.add(layers.Input(shape=(input_dim,)))\n",
    "    for units in layer_config:\n",
    "        model.add(layers.Dense(units, activation='sigmoid'))\n",
    "    model.add(layers.Dense(1, activation='sigmoid'))\n",
    "    model.compile(optimizer=tf.keras.optimizers.Adam(0.001),\n",
    "                  loss='binary_crossentropy',\n",
    "                  metrics=['accuracy'])\n",
    "    return model\n",
    "\n",
    "\n",
    "score_cache = {}\n",
    "\n",
    "def evaluate_architecture(layer_config, epochs=5, runs=1):\n",
    "    key = tuple(layer_config)\n",
    "    if key in score_cache:\n",
    "        return score_cache[key]\n",
    "    \n",
    "    if not layer_config or sum(layer_config) <= 0 or any(n <= 0 for n in layer_config):\n",
    "        print(f\"Skipping invalid architecture: {layer_config}\")\n",
    "        score_cache[key] = 0.0\n",
    "        return 0.0\n",
    "\n",
    "    print(f\"Evaluating: {layer_config}\")\n",
    "    X_train_small = X_train[:3000]\n",
    "    y_train_small = y_train[:3000]\n",
    "    accs = []\n",
    "    for _ in range(runs):\n",
    "        model = build_model(layer_config, X_train.shape[1])\n",
    "        model.fit(X_train_small, y_train_small, epochs=epochs, batch_size=32, verbose=0)\n",
    "        _, acc = model.evaluate(X_test, y_test, verbose=0)\n",
    "        accs.append(acc)\n",
    "\n",
    "    avg_acc = np.mean(accs)\n",
    "    score_cache[key] = avg_acc\n",
    "    return avg_acc\n",
    "\n",
    "def repair_individual(individual, total_nodes):\n",
    "    indiv = np.round(individual).astype(int)\n",
    "    indiv = indiv[indiv > 0]\n",
    "    if len(indiv) == 0:\n",
    "        return [total_nodes]\n",
    "    indiv = np.clip(indiv, 1, total_nodes)\n",
    "    indiv = (indiv / np.sum(indiv) * total_nodes).astype(int)\n",
    "    while np.sum(indiv) < total_nodes:\n",
    "        indiv[np.argmin(indiv)] += 1\n",
    "    while np.sum(indiv) > total_nodes:\n",
    "        indiv[np.argmax(indiv)] -= 1\n",
    "    indiv = indiv[indiv > 0]\n",
    "    return indiv.tolist() if len(indiv) > 0 else [total_nodes]"
   ]
  },
  {
   "cell_type": "markdown",
   "metadata": {},
   "source": [
    "### Differential Evolution NAS "
   ]
  },
  {
   "cell_type": "code",
   "execution_count": 24,
   "metadata": {},
   "outputs": [
    {
     "name": "stderr",
     "output_type": "stream",
     "text": [
      "Evaluating Initial Population:   0%|          | 0/20 [00:00<?, ?it/s]"
     ]
    },
    {
     "name": "stdout",
     "output_type": "stream",
     "text": [
      "Evaluating: [8, 6, 6]\n"
     ]
    },
    {
     "name": "stderr",
     "output_type": "stream",
     "text": [
      "Evaluating Initial Population:   5%|▌         | 1/20 [00:01<00:26,  1.38s/it]"
     ]
    },
    {
     "name": "stdout",
     "output_type": "stream",
     "text": [
      "Evaluating: [20]\n"
     ]
    },
    {
     "name": "stderr",
     "output_type": "stream",
     "text": [
      "Evaluating Initial Population:  10%|█         | 2/20 [00:02<00:20,  1.16s/it]"
     ]
    },
    {
     "name": "stdout",
     "output_type": "stream",
     "text": [
      "Evaluating: [12, 8]\n"
     ]
    },
    {
     "name": "stderr",
     "output_type": "stream",
     "text": [
      "Evaluating Initial Population:  15%|█▌        | 3/20 [00:03<00:19,  1.12s/it]"
     ]
    },
    {
     "name": "stdout",
     "output_type": "stream",
     "text": [
      "Evaluating: [5, 10, 5]\n"
     ]
    },
    {
     "name": "stderr",
     "output_type": "stream",
     "text": [
      "Evaluating Initial Population:  20%|██        | 4/20 [00:04<00:18,  1.14s/it]"
     ]
    },
    {
     "name": "stdout",
     "output_type": "stream",
     "text": [
      "Evaluating: [3, 17]\n"
     ]
    },
    {
     "name": "stderr",
     "output_type": "stream",
     "text": [
      "Evaluating Initial Population:  25%|██▌       | 5/20 [00:05<00:16,  1.11s/it]"
     ]
    },
    {
     "name": "stdout",
     "output_type": "stream",
     "text": [
      "Evaluating: [15, 5]\n"
     ]
    },
    {
     "name": "stderr",
     "output_type": "stream",
     "text": [
      "Evaluating Initial Population:  30%|███       | 6/20 [00:06<00:15,  1.08s/it]"
     ]
    },
    {
     "name": "stdout",
     "output_type": "stream",
     "text": [
      "Evaluating: [2, 5, 5, 8]\n"
     ]
    },
    {
     "name": "stderr",
     "output_type": "stream",
     "text": [
      "Evaluating Initial Population:  35%|███▌      | 7/20 [00:07<00:14,  1.13s/it]"
     ]
    },
    {
     "name": "stdout",
     "output_type": "stream",
     "text": [
      "Evaluating: [6, 7, 7]\n"
     ]
    },
    {
     "name": "stderr",
     "output_type": "stream",
     "text": [
      "Evaluating Initial Population:  40%|████      | 8/20 [00:09<00:13,  1.14s/it]"
     ]
    },
    {
     "name": "stdout",
     "output_type": "stream",
     "text": [
      "Evaluating: [9, 11]\n"
     ]
    },
    {
     "name": "stderr",
     "output_type": "stream",
     "text": [
      "Evaluating Initial Population:  45%|████▌     | 9/20 [00:10<00:12,  1.13s/it]"
     ]
    },
    {
     "name": "stdout",
     "output_type": "stream",
     "text": [
      "Evaluating: [3, 2, 11, 4]\n"
     ]
    },
    {
     "name": "stderr",
     "output_type": "stream",
     "text": [
      "Evaluating Initial Population:  50%|█████     | 10/20 [00:11<00:12,  1.23s/it]"
     ]
    },
    {
     "name": "stdout",
     "output_type": "stream",
     "text": [
      "Evaluating: [10, 3, 7]\n"
     ]
    },
    {
     "name": "stderr",
     "output_type": "stream",
     "text": [
      "Evaluating Initial Population:  60%|██████    | 12/20 [00:12<00:07,  1.09it/s]"
     ]
    },
    {
     "name": "stdout",
     "output_type": "stream",
     "text": [
      "Evaluating: [16, 4]\n"
     ]
    },
    {
     "name": "stderr",
     "output_type": "stream",
     "text": [
      "Evaluating Initial Population:  65%|██████▌   | 13/20 [00:13<00:06,  1.05it/s]"
     ]
    },
    {
     "name": "stdout",
     "output_type": "stream",
     "text": [
      "Evaluating: [7, 4, 5, 4]\n"
     ]
    },
    {
     "name": "stderr",
     "output_type": "stream",
     "text": [
      "Evaluating Initial Population:  70%|███████   | 14/20 [00:15<00:06,  1.03s/it]"
     ]
    },
    {
     "name": "stdout",
     "output_type": "stream",
     "text": [
      "Evaluating: [2, 8, 10]\n"
     ]
    },
    {
     "name": "stderr",
     "output_type": "stream",
     "text": [
      "Evaluating Initial Population:  75%|███████▌  | 15/20 [00:16<00:05,  1.06s/it]"
     ]
    },
    {
     "name": "stdout",
     "output_type": "stream",
     "text": [
      "Evaluating: [11, 5, 2, 2]\n"
     ]
    },
    {
     "name": "stderr",
     "output_type": "stream",
     "text": [
      "Evaluating Initial Population:  80%|████████  | 16/20 [00:17<00:04,  1.11s/it]"
     ]
    },
    {
     "name": "stdout",
     "output_type": "stream",
     "text": [
      "Evaluating: [8, 12]\n"
     ]
    },
    {
     "name": "stderr",
     "output_type": "stream",
     "text": [
      "Evaluating Initial Population:  85%|████████▌ | 17/20 [00:18<00:03,  1.13s/it]"
     ]
    },
    {
     "name": "stdout",
     "output_type": "stream",
     "text": [
      "Evaluating: [8, 5, 3, 4]\n"
     ]
    },
    {
     "name": "stderr",
     "output_type": "stream",
     "text": [
      "Evaluating Initial Population:  90%|█████████ | 18/20 [00:19<00:02,  1.17s/it]"
     ]
    },
    {
     "name": "stdout",
     "output_type": "stream",
     "text": [
      "Evaluating: [5, 15]\n"
     ]
    },
    {
     "name": "stderr",
     "output_type": "stream",
     "text": [
      "Evaluating Initial Population:  95%|█████████▌| 19/20 [00:20<00:01,  1.15s/it]"
     ]
    },
    {
     "name": "stdout",
     "output_type": "stream",
     "text": [
      "Evaluating: [8, 7, 5]\n"
     ]
    },
    {
     "name": "stderr",
     "output_type": "stream",
     "text": [
      "Evaluating Initial Population: 100%|██████████| 20/20 [00:22<00:00,  1.11s/it]\n"
     ]
    },
    {
     "name": "stdout",
     "output_type": "stream",
     "text": [
      "\n",
      "--- Generation 1 ---\n",
      "Evaluating: [11, 4, 3, 2]\n",
      "Evaluating: [5, 5, 5, 5]\n",
      "Evaluating: [18, 1, 1]\n",
      "Evaluating: [6, 14]\n",
      "Evaluating: [11, 9]\n",
      "Evaluating: [10, 5, 5]\n",
      "Evaluating: [5, 6, 6, 3]\n",
      "Evaluating: [12, 5, 2, 1]\n",
      "Evaluating: [4, 12, 4]\n",
      "Evaluating: [9, 10, 1]\n",
      "Evaluating: [16, 2, 1, 1]\n",
      "Evaluating: [10, 10]\n",
      "Evaluating: [13, 4, 3]\n",
      "Evaluating: [10, 4, 3, 3]\n",
      "Evaluating: [9, 7, 4]\n",
      "Evaluating: [6, 9, 5]\n",
      "\n",
      "--- Generation 2 ---\n",
      "Evaluating: [8, 4, 4, 4]\n",
      "Evaluating: [19, 1]\n",
      "Evaluating: [3, 8, 5, 4]\n",
      "Evaluating: [4, 9, 4, 3]\n",
      "Evaluating: [8, 8, 4]\n",
      "Evaluating: [8, 11, 1]\n",
      "Evaluating: [7, 13]\n",
      "Evaluating: [11, 5, 4]\n",
      "Evaluating: [3, 10, 4, 3]\n",
      "Evaluating: [6, 3, 9, 2]\n",
      "Evaluating: [5, 4, 6, 5]\n",
      "Evaluating: [17, 2, 1]\n",
      "Evaluating: [14, 4, 2]\n",
      "Evaluating: [5, 9, 4, 2]\n",
      "Evaluating: [6, 11, 3]\n",
      "Evaluating: [5, 6, 5, 4]\n",
      "Evaluating: [9, 6, 5]\n",
      "Evaluating: [4, 4, 8, 4]\n",
      "\n",
      "--- Generation 3 ---\n",
      "Evaluating: [8, 8, 2, 2]\n",
      "Evaluating: [4, 12, 2, 2]\n",
      "Evaluating: [11, 4, 5]\n",
      "Evaluating: [2, 16, 1, 1]\n",
      "Evaluating: [9, 4, 7]\n",
      "Evaluating: [9, 9, 2]\n",
      "Evaluating: [2, 18]\n",
      "Evaluating: [7, 6, 7]\n",
      "Evaluating: [12, 1, 7]\n",
      "Evaluating: [7, 3, 8, 2]\n",
      "Evaluating: [7, 8, 3, 2]\n",
      "Evaluating: [6, 5, 5, 4]\n",
      "\n",
      "--- Generation 4 ---\n",
      "Evaluating: [4, 13, 2, 1]\n",
      "Evaluating: [13, 3, 2, 2]\n",
      "Evaluating: [2, 15, 2, 1]\n",
      "Evaluating: [7, 8, 5]\n",
      "Evaluating: [6, 11, 2, 1]\n",
      "Evaluating: [7, 10, 2, 1]\n",
      "Evaluating: [3, 14, 3]\n",
      "Evaluating: [4, 10, 4, 2]\n",
      "Evaluating: [7, 11, 2]\n",
      "Evaluating: [3, 3, 6, 8]\n",
      "Evaluating: [7, 6, 4, 3]\n",
      "Evaluating: [3, 9, 2, 6]\n",
      "Evaluating: [13, 7]\n",
      "Evaluating: [11, 8, 1]\n",
      "\n",
      "--- Generation 5 ---\n",
      "Evaluating: [8, 2, 8, 2]\n",
      "Evaluating: [7, 5, 6, 2]\n",
      "Evaluating: [7, 5, 4, 4]\n",
      "Evaluating: [6, 4, 6, 4]\n",
      "Evaluating: [3, 15, 2]\n",
      "Evaluating: [6, 3, 8, 3]\n",
      "Evaluating: [4, 13, 3]\n",
      "Evaluating: [2, 2, 10, 6]\n",
      "Evaluating: [10, 7, 3]\n",
      "Evaluating: [14, 6]\n",
      "Evaluating: [9, 5, 6]\n"
     ]
    }
   ],
   "source": [
    "TOTAL_HIDDEN_NODES = 20\n",
    "POP_SIZE = 20\n",
    "GENERATIONS = 5\n",
    "F = 0.5\n",
    "CR = 0.7\n",
    "MAX_LAYERS = 4\n",
    "\n",
    "population = [\n",
    "    repair_individual(\n",
    "        np.random.randint(1, TOTAL_HIDDEN_NODES, size=np.random.randint(1, MAX_LAYERS + 1)),\n",
    "        TOTAL_HIDDEN_NODES\n",
    "    )\n",
    "    for _ in range(POP_SIZE)\n",
    "]\n",
    "\n",
    "scores = [\n",
    "    evaluate_architecture(ind)\n",
    "    for ind in tqdm(population, desc=\"Evaluating Initial Population\")\n",
    "]\n",
    "\n",
    "for gen in range(GENERATIONS):\n",
    "    print(f\"\\n--- Generation {gen + 1} ---\")\n",
    "    for i in range(POP_SIZE):\n",
    "        a_idx, b_idx, c_idx = np.random.choice([j for j in range(POP_SIZE) if j != i], 3, replace=False)\n",
    "        a, b, c = population[a_idx], population[b_idx], population[c_idx]\n",
    "\n",
    "        max_len = max(len(a), len(b), len(c))\n",
    "        a_pad = np.pad(a, (0, max_len - len(a)), constant_values=1)\n",
    "        b_pad = np.pad(b, (0, max_len - len(b)), constant_values=1)\n",
    "        c_pad = np.pad(c, (0, max_len - len(c)), constant_values=1)\n",
    "\n",
    "        mutant = a_pad + F * (b_pad - c_pad)\n",
    "        cross_points = np.random.rand(max_len) < CR\n",
    "        trial = np.where(cross_points, mutant, a_pad)\n",
    "\n",
    "        trial_repaired = repair_individual(trial, TOTAL_HIDDEN_NODES)\n",
    "        trial_score = evaluate_architecture(trial_repaired)\n",
    "\n",
    "        if trial_score > scores[i]:\n",
    "            population[i] = trial_repaired\n",
    "            scores[i] = trial_score"
   ]
  },
  {
   "cell_type": "markdown",
   "metadata": {},
   "source": [
    "### Results & Visualization"
   ]
  },
  {
   "cell_type": "code",
   "execution_count": 25,
   "metadata": {},
   "outputs": [
    {
     "name": "stdout",
     "output_type": "stream",
     "text": [
      "\n",
      "--- Final Results ---\n",
      "Best architecture: [20]\n",
      "Best accuracy (q): 0.6618\n",
      "Single-layer accuracy (q): 0.6618\n",
      "Improvement: 0.0\n"
     ]
    },
    {
     "data": {
      "image/png": "[encoded data removed]",
      "text/plain": [
       "<Figure size 800x500 with 1 Axes>"
      ]
     },
     "metadata": {},
     "output_type": "display_data"
    }
   ],
   "source": [
    "best_index = np.argmax(scores)\n",
    "best_architecture = population[best_index]\n",
    "best_score = scores[best_index]\n",
    "\n",
    "baseline_score = evaluate_architecture([TOTAL_HIDDEN_NODES])\n",
    "\n",
    "print(\"\\n--- Final Results ---\")\n",
    "print(\"Best architecture:\", best_architecture)\n",
    "print(\"Best accuracy (q):\", round(best_score, 4))\n",
    "print(\"Single-layer accuracy (q):\", round(baseline_score, 4))\n",
    "print(\"Improvement:\", round(best_score - baseline_score, 4))\n",
    "\n",
    "# Plot bar comparison\n",
    "plt.figure(figsize=(8, 5))\n",
    "plt.bar([\"Best Architecture\", \"Single Layer\"], [best_score, baseline_score], color=[\"green\", \"gray\"])\n",
    "plt.title(\"Comparison of Test Accuracy (q)\")\n",
    "plt.ylabel(\"Accuracy\")\n",
    "plt.grid(True)\n",
    "plt.show()"
   ]
  },
  {
   "cell_type": "markdown",
   "metadata": {},
   "source": [
    "### NAS Results Summary\n",
    "\n",
    "- **Best Architecture Obtained**:  \n",
    "  `[20]` — a single hidden layer with all 20 hidden nodes.\n",
    "\n",
    "- **Was it significantly better than the single hidden layer network?**  \n",
    "  No. The best evolved architecture had the same accuracy (`0.6552`) as the single hidden layer baseline.  \n",
    "  **Improvement**: `0.0`\n",
    "\n",
    "- **How much computational effort was needed to obtain some improvement?**  \n",
    "  None — the Differential Evolution algorithm did not find any architecture better than the baseline despite:\n",
    "  - Evaluating ~100 architectures\n",
    "  - Running 5 generations with a population of 20\n",
    "  - Training each model for 5 epochs\n"
   ]
  }
 ],
 "metadata": {
  "kernelspec": {
   "display_name": "base",
   "language": "python",
   "name": "python3"
  },
  "language_info": {
   "codemirror_mode": {
    "name": "ipython",
    "version": 3
   },
   "file_extension": ".py",
   "mimetype": "text/x-python",
   "name": "python",
   "nbconvert_exporter": "python",
   "pygments_lexer": "ipython3",
   "version": "3.12.7"
  }
 },
 "nbformat": 4,
 "nbformat_minor": 2
}
